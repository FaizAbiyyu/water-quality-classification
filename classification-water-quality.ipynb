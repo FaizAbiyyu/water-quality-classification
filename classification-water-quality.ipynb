{
 "cells": [
  {
   "cell_type": "markdown",
   "id": "a1976eda",
   "metadata": {
    "papermill": {
     "duration": 0.019171,
     "end_time": "2022-12-18T13:22:47.893590",
     "exception": false,
     "start_time": "2022-12-18T13:22:47.874419",
     "status": "completed"
    },
    "tags": []
   },
   "source": [
    "**Data Understanding**"
   ]
  },
  {
   "cell_type": "code",
   "execution_count": 52,
   "id": "663fd341",
   "metadata": {
    "execution": {
     "iopub.execute_input": "2022-12-18T13:22:47.927670Z",
     "iopub.status.busy": "2022-12-18T13:22:47.926862Z",
     "iopub.status.idle": "2022-12-18T13:22:49.655110Z",
     "shell.execute_reply": "2022-12-18T13:22:49.653886Z"
    },
    "papermill": {
     "duration": 1.750595,
     "end_time": "2022-12-18T13:22:49.660025",
     "exception": false,
     "start_time": "2022-12-18T13:22:47.909430",
     "status": "completed"
    },
    "tags": []
   },
   "outputs": [],
   "source": [
    "import numpy as np \n",
    "import pandas as pd \n",
    "import matplotlib.pyplot as plt\n",
    "import seaborn as sns\n",
    "from sklearn.tree import DecisionTreeClassifier\n",
    "from sklearn.ensemble import RandomForestClassifier\n",
    "from sklearn.svm import SVC\n",
    "from sklearn.neighbors import KNeighborsClassifier"
   ]
  },
  {
   "cell_type": "code",
   "execution_count": 53,
   "id": "d322ef35",
   "metadata": {
    "execution": {
     "iopub.execute_input": "2022-12-18T13:22:49.833925Z",
     "iopub.status.busy": "2022-12-18T13:22:49.833513Z",
     "iopub.status.idle": "2022-12-18T13:22:49.886435Z",
     "shell.execute_reply": "2022-12-18T13:22:49.885339Z"
    },
    "papermill": {
     "duration": 0.072625,
     "end_time": "2022-12-18T13:22:49.889145",
     "exception": false,
     "start_time": "2022-12-18T13:22:49.816520",
     "status": "completed"
    },
    "tags": []
   },
   "outputs": [
    {
     "data": {
      "text/html": [
       "<div>\n",
       "<style scoped>\n",
       "    .dataframe tbody tr th:only-of-type {\n",
       "        vertical-align: middle;\n",
       "    }\n",
       "\n",
       "    .dataframe tbody tr th {\n",
       "        vertical-align: top;\n",
       "    }\n",
       "\n",
       "    .dataframe thead th {\n",
       "        text-align: right;\n",
       "    }\n",
       "</style>\n",
       "<table border=\"1\" class=\"dataframe\">\n",
       "  <thead>\n",
       "    <tr style=\"text-align: right;\">\n",
       "      <th></th>\n",
       "      <th>ph</th>\n",
       "      <th>Hardness</th>\n",
       "      <th>Solids</th>\n",
       "      <th>Chloramines</th>\n",
       "      <th>Sulfate</th>\n",
       "      <th>Conductivity</th>\n",
       "      <th>Organic_carbon</th>\n",
       "      <th>Trihalomethanes</th>\n",
       "      <th>Turbidity</th>\n",
       "      <th>Potability</th>\n",
       "    </tr>\n",
       "  </thead>\n",
       "  <tbody>\n",
       "    <tr>\n",
       "      <th>0</th>\n",
       "      <td>NaN</td>\n",
       "      <td>204.890455</td>\n",
       "      <td>20791.318981</td>\n",
       "      <td>7.300212</td>\n",
       "      <td>368.516441</td>\n",
       "      <td>564.308654</td>\n",
       "      <td>10.379783</td>\n",
       "      <td>86.990970</td>\n",
       "      <td>2.963135</td>\n",
       "      <td>0</td>\n",
       "    </tr>\n",
       "    <tr>\n",
       "      <th>1</th>\n",
       "      <td>3.716080</td>\n",
       "      <td>129.422921</td>\n",
       "      <td>18630.057858</td>\n",
       "      <td>6.635246</td>\n",
       "      <td>NaN</td>\n",
       "      <td>592.885359</td>\n",
       "      <td>15.180013</td>\n",
       "      <td>56.329076</td>\n",
       "      <td>4.500656</td>\n",
       "      <td>0</td>\n",
       "    </tr>\n",
       "    <tr>\n",
       "      <th>2</th>\n",
       "      <td>8.099124</td>\n",
       "      <td>224.236259</td>\n",
       "      <td>19909.541732</td>\n",
       "      <td>9.275884</td>\n",
       "      <td>NaN</td>\n",
       "      <td>418.606213</td>\n",
       "      <td>16.868637</td>\n",
       "      <td>66.420093</td>\n",
       "      <td>3.055934</td>\n",
       "      <td>0</td>\n",
       "    </tr>\n",
       "    <tr>\n",
       "      <th>3</th>\n",
       "      <td>8.316766</td>\n",
       "      <td>214.373394</td>\n",
       "      <td>22018.417441</td>\n",
       "      <td>8.059332</td>\n",
       "      <td>356.886136</td>\n",
       "      <td>363.266516</td>\n",
       "      <td>18.436524</td>\n",
       "      <td>100.341674</td>\n",
       "      <td>4.628771</td>\n",
       "      <td>0</td>\n",
       "    </tr>\n",
       "    <tr>\n",
       "      <th>4</th>\n",
       "      <td>9.092223</td>\n",
       "      <td>181.101509</td>\n",
       "      <td>17978.986339</td>\n",
       "      <td>6.546600</td>\n",
       "      <td>310.135738</td>\n",
       "      <td>398.410813</td>\n",
       "      <td>11.558279</td>\n",
       "      <td>31.997993</td>\n",
       "      <td>4.075075</td>\n",
       "      <td>0</td>\n",
       "    </tr>\n",
       "  </tbody>\n",
       "</table>\n",
       "</div>"
      ],
      "text/plain": [
       "         ph    Hardness        Solids  Chloramines     Sulfate  Conductivity  \\\n",
       "0       NaN  204.890455  20791.318981     7.300212  368.516441    564.308654   \n",
       "1  3.716080  129.422921  18630.057858     6.635246         NaN    592.885359   \n",
       "2  8.099124  224.236259  19909.541732     9.275884         NaN    418.606213   \n",
       "3  8.316766  214.373394  22018.417441     8.059332  356.886136    363.266516   \n",
       "4  9.092223  181.101509  17978.986339     6.546600  310.135738    398.410813   \n",
       "\n",
       "   Organic_carbon  Trihalomethanes  Turbidity  Potability  \n",
       "0       10.379783        86.990970   2.963135           0  \n",
       "1       15.180013        56.329076   4.500656           0  \n",
       "2       16.868637        66.420093   3.055934           0  \n",
       "3       18.436524       100.341674   4.628771           0  \n",
       "4       11.558279        31.997993   4.075075           0  "
      ]
     },
     "execution_count": 53,
     "metadata": {},
     "output_type": "execute_result"
    }
   ],
   "source": [
    "df = pd.read_csv('./dataset/water_potability.csv')\n",
    "df.head()"
   ]
  },
  {
   "cell_type": "code",
   "execution_count": 54,
   "id": "35303915",
   "metadata": {
    "execution": {
     "iopub.execute_input": "2022-12-18T13:22:49.954054Z",
     "iopub.status.busy": "2022-12-18T13:22:49.953655Z",
     "iopub.status.idle": "2022-12-18T13:22:49.961091Z",
     "shell.execute_reply": "2022-12-18T13:22:49.959913Z"
    },
    "papermill": {
     "duration": 0.027101,
     "end_time": "2022-12-18T13:22:49.963612",
     "exception": false,
     "start_time": "2022-12-18T13:22:49.936511",
     "status": "completed"
    },
    "tags": []
   },
   "outputs": [
    {
     "data": {
      "text/plain": [
       "(3276, 10)"
      ]
     },
     "execution_count": 54,
     "metadata": {},
     "output_type": "execute_result"
    }
   ],
   "source": [
    "df.shape"
   ]
  },
  {
   "cell_type": "markdown",
   "id": "966b2fb6",
   "metadata": {
    "papermill": {
     "duration": 0.015515,
     "end_time": "2022-12-18T13:22:50.028186",
     "exception": false,
     "start_time": "2022-12-18T13:22:50.012671",
     "status": "completed"
    },
    "tags": []
   },
   "source": [
    "## Data Preparation"
   ]
  },
  {
   "cell_type": "code",
   "execution_count": 55,
   "id": "026bcc5a",
   "metadata": {
    "execution": {
     "iopub.execute_input": "2022-12-18T13:22:50.062443Z",
     "iopub.status.busy": "2022-12-18T13:22:50.061666Z",
     "iopub.status.idle": "2022-12-18T13:22:50.072135Z",
     "shell.execute_reply": "2022-12-18T13:22:50.071050Z"
    },
    "papermill": {
     "duration": 0.030386,
     "end_time": "2022-12-18T13:22:50.074425",
     "exception": false,
     "start_time": "2022-12-18T13:22:50.044039",
     "status": "completed"
    },
    "tags": []
   },
   "outputs": [
    {
     "data": {
      "text/plain": [
       "ph                 491\n",
       "Hardness             0\n",
       "Solids               0\n",
       "Chloramines          0\n",
       "Sulfate            781\n",
       "Conductivity         0\n",
       "Organic_carbon       0\n",
       "Trihalomethanes    162\n",
       "Turbidity            0\n",
       "Potability           0\n",
       "dtype: int64"
      ]
     },
     "execution_count": 55,
     "metadata": {},
     "output_type": "execute_result"
    }
   ],
   "source": [
    "df.isnull().sum()"
   ]
  },
  {
   "cell_type": "markdown",
   "id": "3743ac86",
   "metadata": {
    "papermill": {
     "duration": 0.01578,
     "end_time": "2022-12-18T13:22:50.106169",
     "exception": false,
     "start_time": "2022-12-18T13:22:50.090389",
     "status": "completed"
    },
    "tags": []
   },
   "source": [
    "Cek NULL dalam datasets.<br>\n",
    "Terdapat nilai NULL<br>\n",
    "491 : ph,<br> \n",
    "781 : Sulfate, dan <br>\n",
    "181 : Trihalomethanes."
   ]
  },
  {
   "cell_type": "code",
   "execution_count": 56,
   "id": "b44d733d",
   "metadata": {
    "execution": {
     "iopub.execute_input": "2022-12-18T13:22:50.173355Z",
     "iopub.status.busy": "2022-12-18T13:22:50.172667Z",
     "iopub.status.idle": "2022-12-18T13:22:50.202319Z",
     "shell.execute_reply": "2022-12-18T13:22:50.201118Z"
    },
    "papermill": {
     "duration": 0.049761,
     "end_time": "2022-12-18T13:22:50.204708",
     "exception": false,
     "start_time": "2022-12-18T13:22:50.154947",
     "status": "completed"
    },
    "tags": []
   },
   "outputs": [
    {
     "data": {
      "text/html": [
       "<div>\n",
       "<style scoped>\n",
       "    .dataframe tbody tr th:only-of-type {\n",
       "        vertical-align: middle;\n",
       "    }\n",
       "\n",
       "    .dataframe tbody tr th {\n",
       "        vertical-align: top;\n",
       "    }\n",
       "\n",
       "    .dataframe thead th {\n",
       "        text-align: right;\n",
       "    }\n",
       "</style>\n",
       "<table border=\"1\" class=\"dataframe\">\n",
       "  <thead>\n",
       "    <tr style=\"text-align: right;\">\n",
       "      <th></th>\n",
       "      <th>ph</th>\n",
       "      <th>Hardness</th>\n",
       "      <th>Solids</th>\n",
       "      <th>Chloramines</th>\n",
       "      <th>Sulfate</th>\n",
       "      <th>Conductivity</th>\n",
       "      <th>Organic_carbon</th>\n",
       "      <th>Trihalomethanes</th>\n",
       "      <th>Turbidity</th>\n",
       "      <th>Potability</th>\n",
       "    </tr>\n",
       "  </thead>\n",
       "  <tbody>\n",
       "    <tr>\n",
       "      <th>0</th>\n",
       "      <td>7.036752</td>\n",
       "      <td>204.890455</td>\n",
       "      <td>20791.318981</td>\n",
       "      <td>7.300212</td>\n",
       "      <td>368.516441</td>\n",
       "      <td>564.308654</td>\n",
       "      <td>10.379783</td>\n",
       "      <td>86.990970</td>\n",
       "      <td>2.963135</td>\n",
       "      <td>0</td>\n",
       "    </tr>\n",
       "    <tr>\n",
       "      <th>1</th>\n",
       "      <td>3.716080</td>\n",
       "      <td>129.422921</td>\n",
       "      <td>18630.057858</td>\n",
       "      <td>6.635246</td>\n",
       "      <td>333.073546</td>\n",
       "      <td>592.885359</td>\n",
       "      <td>15.180013</td>\n",
       "      <td>56.329076</td>\n",
       "      <td>4.500656</td>\n",
       "      <td>0</td>\n",
       "    </tr>\n",
       "    <tr>\n",
       "      <th>2</th>\n",
       "      <td>8.099124</td>\n",
       "      <td>224.236259</td>\n",
       "      <td>19909.541732</td>\n",
       "      <td>9.275884</td>\n",
       "      <td>333.073546</td>\n",
       "      <td>418.606213</td>\n",
       "      <td>16.868637</td>\n",
       "      <td>66.420093</td>\n",
       "      <td>3.055934</td>\n",
       "      <td>0</td>\n",
       "    </tr>\n",
       "    <tr>\n",
       "      <th>3</th>\n",
       "      <td>8.316766</td>\n",
       "      <td>214.373394</td>\n",
       "      <td>22018.417441</td>\n",
       "      <td>8.059332</td>\n",
       "      <td>356.886136</td>\n",
       "      <td>363.266516</td>\n",
       "      <td>18.436524</td>\n",
       "      <td>100.341674</td>\n",
       "      <td>4.628771</td>\n",
       "      <td>0</td>\n",
       "    </tr>\n",
       "    <tr>\n",
       "      <th>4</th>\n",
       "      <td>9.092223</td>\n",
       "      <td>181.101509</td>\n",
       "      <td>17978.986339</td>\n",
       "      <td>6.546600</td>\n",
       "      <td>310.135738</td>\n",
       "      <td>398.410813</td>\n",
       "      <td>11.558279</td>\n",
       "      <td>31.997993</td>\n",
       "      <td>4.075075</td>\n",
       "      <td>0</td>\n",
       "    </tr>\n",
       "    <tr>\n",
       "      <th>...</th>\n",
       "      <td>...</td>\n",
       "      <td>...</td>\n",
       "      <td>...</td>\n",
       "      <td>...</td>\n",
       "      <td>...</td>\n",
       "      <td>...</td>\n",
       "      <td>...</td>\n",
       "      <td>...</td>\n",
       "      <td>...</td>\n",
       "      <td>...</td>\n",
       "    </tr>\n",
       "    <tr>\n",
       "      <th>3271</th>\n",
       "      <td>4.668102</td>\n",
       "      <td>193.681735</td>\n",
       "      <td>47580.991603</td>\n",
       "      <td>7.166639</td>\n",
       "      <td>359.948574</td>\n",
       "      <td>526.424171</td>\n",
       "      <td>13.894419</td>\n",
       "      <td>66.687695</td>\n",
       "      <td>4.435821</td>\n",
       "      <td>1</td>\n",
       "    </tr>\n",
       "    <tr>\n",
       "      <th>3272</th>\n",
       "      <td>7.808856</td>\n",
       "      <td>193.553212</td>\n",
       "      <td>17329.802160</td>\n",
       "      <td>8.061362</td>\n",
       "      <td>333.073546</td>\n",
       "      <td>392.449580</td>\n",
       "      <td>19.903225</td>\n",
       "      <td>66.622485</td>\n",
       "      <td>2.798243</td>\n",
       "      <td>1</td>\n",
       "    </tr>\n",
       "    <tr>\n",
       "      <th>3273</th>\n",
       "      <td>9.419510</td>\n",
       "      <td>175.762646</td>\n",
       "      <td>33155.578218</td>\n",
       "      <td>7.350233</td>\n",
       "      <td>333.073546</td>\n",
       "      <td>432.044783</td>\n",
       "      <td>11.039070</td>\n",
       "      <td>69.845400</td>\n",
       "      <td>3.298875</td>\n",
       "      <td>1</td>\n",
       "    </tr>\n",
       "    <tr>\n",
       "      <th>3274</th>\n",
       "      <td>5.126763</td>\n",
       "      <td>230.603758</td>\n",
       "      <td>11983.869376</td>\n",
       "      <td>6.303357</td>\n",
       "      <td>333.073546</td>\n",
       "      <td>402.883113</td>\n",
       "      <td>11.168946</td>\n",
       "      <td>77.488213</td>\n",
       "      <td>4.708658</td>\n",
       "      <td>1</td>\n",
       "    </tr>\n",
       "    <tr>\n",
       "      <th>3275</th>\n",
       "      <td>7.874671</td>\n",
       "      <td>195.102299</td>\n",
       "      <td>17404.177061</td>\n",
       "      <td>7.509306</td>\n",
       "      <td>333.073546</td>\n",
       "      <td>327.459760</td>\n",
       "      <td>16.140368</td>\n",
       "      <td>78.698446</td>\n",
       "      <td>2.309149</td>\n",
       "      <td>1</td>\n",
       "    </tr>\n",
       "  </tbody>\n",
       "</table>\n",
       "<p>3276 rows × 10 columns</p>\n",
       "</div>"
      ],
      "text/plain": [
       "            ph    Hardness        Solids  Chloramines     Sulfate  \\\n",
       "0     7.036752  204.890455  20791.318981     7.300212  368.516441   \n",
       "1     3.716080  129.422921  18630.057858     6.635246  333.073546   \n",
       "2     8.099124  224.236259  19909.541732     9.275884  333.073546   \n",
       "3     8.316766  214.373394  22018.417441     8.059332  356.886136   \n",
       "4     9.092223  181.101509  17978.986339     6.546600  310.135738   \n",
       "...        ...         ...           ...          ...         ...   \n",
       "3271  4.668102  193.681735  47580.991603     7.166639  359.948574   \n",
       "3272  7.808856  193.553212  17329.802160     8.061362  333.073546   \n",
       "3273  9.419510  175.762646  33155.578218     7.350233  333.073546   \n",
       "3274  5.126763  230.603758  11983.869376     6.303357  333.073546   \n",
       "3275  7.874671  195.102299  17404.177061     7.509306  333.073546   \n",
       "\n",
       "      Conductivity  Organic_carbon  Trihalomethanes  Turbidity  Potability  \n",
       "0       564.308654       10.379783        86.990970   2.963135           0  \n",
       "1       592.885359       15.180013        56.329076   4.500656           0  \n",
       "2       418.606213       16.868637        66.420093   3.055934           0  \n",
       "3       363.266516       18.436524       100.341674   4.628771           0  \n",
       "4       398.410813       11.558279        31.997993   4.075075           0  \n",
       "...            ...             ...              ...        ...         ...  \n",
       "3271    526.424171       13.894419        66.687695   4.435821           1  \n",
       "3272    392.449580       19.903225        66.622485   2.798243           1  \n",
       "3273    432.044783       11.039070        69.845400   3.298875           1  \n",
       "3274    402.883113       11.168946        77.488213   4.708658           1  \n",
       "3275    327.459760       16.140368        78.698446   2.309149           1  \n",
       "\n",
       "[3276 rows x 10 columns]"
      ]
     },
     "execution_count": 56,
     "metadata": {},
     "output_type": "execute_result"
    }
   ],
   "source": [
    "df['Sulfate'] = df['Sulfate'].fillna(value=df['Sulfate'].median())\n",
    "df['ph'] = df['ph'].fillna(value=df['ph'].median())\n",
    "df['Trihalomethanes'] = df['Trihalomethanes'].fillna(value=df['Trihalomethanes'].median())\n",
    "df"
   ]
  },
  {
   "cell_type": "markdown",
   "id": "5809a5cc",
   "metadata": {
    "papermill": {
     "duration": 0.016154,
     "end_time": "2022-12-18T13:22:50.237258",
     "exception": false,
     "start_time": "2022-12-18T13:22:50.221104",
     "status": "completed"
    },
    "tags": []
   },
   "source": [
    "Melakukan penanganan untuk nilai nullnya dengan mengisikan data yang bernilai null dengan median atau nilai tengah dari data yang ada dalam setiap fitur."
   ]
  },
  {
   "cell_type": "code",
   "execution_count": 57,
   "id": "64b53da4",
   "metadata": {
    "execution": {
     "iopub.execute_input": "2022-12-18T13:22:50.272447Z",
     "iopub.status.busy": "2022-12-18T13:22:50.271772Z",
     "iopub.status.idle": "2022-12-18T13:22:50.280971Z",
     "shell.execute_reply": "2022-12-18T13:22:50.279903Z"
    },
    "papermill": {
     "duration": 0.029439,
     "end_time": "2022-12-18T13:22:50.283219",
     "exception": false,
     "start_time": "2022-12-18T13:22:50.253780",
     "status": "completed"
    },
    "tags": []
   },
   "outputs": [
    {
     "data": {
      "text/plain": [
       "ph                 0\n",
       "Hardness           0\n",
       "Solids             0\n",
       "Chloramines        0\n",
       "Sulfate            0\n",
       "Conductivity       0\n",
       "Organic_carbon     0\n",
       "Trihalomethanes    0\n",
       "Turbidity          0\n",
       "Potability         0\n",
       "dtype: int64"
      ]
     },
     "execution_count": 57,
     "metadata": {},
     "output_type": "execute_result"
    }
   ],
   "source": [
    "df.isnull().sum()"
   ]
  },
  {
   "cell_type": "markdown",
   "id": "0aa08b46",
   "metadata": {
    "papermill": {
     "duration": 0.016371,
     "end_time": "2022-12-18T13:22:50.316142",
     "exception": false,
     "start_time": "2022-12-18T13:22:50.299771",
     "status": "completed"
    },
    "tags": []
   },
   "source": [
    "Ceking NULL"
   ]
  },
  {
   "cell_type": "code",
   "execution_count": 58,
   "id": "b6f29c0e",
   "metadata": {
    "execution": {
     "iopub.execute_input": "2022-12-18T13:22:50.351564Z",
     "iopub.status.busy": "2022-12-18T13:22:50.350879Z",
     "iopub.status.idle": "2022-12-18T13:22:50.399555Z",
     "shell.execute_reply": "2022-12-18T13:22:50.398337Z"
    },
    "papermill": {
     "duration": 0.069194,
     "end_time": "2022-12-18T13:22:50.401964",
     "exception": false,
     "start_time": "2022-12-18T13:22:50.332770",
     "status": "completed"
    },
    "tags": []
   },
   "outputs": [
    {
     "data": {
      "text/html": [
       "<div>\n",
       "<style scoped>\n",
       "    .dataframe tbody tr th:only-of-type {\n",
       "        vertical-align: middle;\n",
       "    }\n",
       "\n",
       "    .dataframe tbody tr th {\n",
       "        vertical-align: top;\n",
       "    }\n",
       "\n",
       "    .dataframe thead th {\n",
       "        text-align: right;\n",
       "    }\n",
       "</style>\n",
       "<table border=\"1\" class=\"dataframe\">\n",
       "  <thead>\n",
       "    <tr style=\"text-align: right;\">\n",
       "      <th></th>\n",
       "      <th>ph</th>\n",
       "      <th>Hardness</th>\n",
       "      <th>Solids</th>\n",
       "      <th>Chloramines</th>\n",
       "      <th>Sulfate</th>\n",
       "      <th>Conductivity</th>\n",
       "      <th>Organic_carbon</th>\n",
       "      <th>Trihalomethanes</th>\n",
       "      <th>Turbidity</th>\n",
       "      <th>Potability</th>\n",
       "    </tr>\n",
       "  </thead>\n",
       "  <tbody>\n",
       "    <tr>\n",
       "      <th>count</th>\n",
       "      <td>3276.000000</td>\n",
       "      <td>3276.000000</td>\n",
       "      <td>3276.000000</td>\n",
       "      <td>3276.000000</td>\n",
       "      <td>3276.000000</td>\n",
       "      <td>3276.000000</td>\n",
       "      <td>3276.000000</td>\n",
       "      <td>3276.000000</td>\n",
       "      <td>3276.000000</td>\n",
       "      <td>3276.000000</td>\n",
       "    </tr>\n",
       "    <tr>\n",
       "      <th>mean</th>\n",
       "      <td>7.074194</td>\n",
       "      <td>196.369496</td>\n",
       "      <td>22014.092526</td>\n",
       "      <td>7.122277</td>\n",
       "      <td>333.608364</td>\n",
       "      <td>426.205111</td>\n",
       "      <td>14.284970</td>\n",
       "      <td>66.407478</td>\n",
       "      <td>3.966786</td>\n",
       "      <td>0.390110</td>\n",
       "    </tr>\n",
       "    <tr>\n",
       "      <th>std</th>\n",
       "      <td>1.470040</td>\n",
       "      <td>32.879761</td>\n",
       "      <td>8768.570828</td>\n",
       "      <td>1.583085</td>\n",
       "      <td>36.143851</td>\n",
       "      <td>80.824064</td>\n",
       "      <td>3.308162</td>\n",
       "      <td>15.769958</td>\n",
       "      <td>0.780382</td>\n",
       "      <td>0.487849</td>\n",
       "    </tr>\n",
       "    <tr>\n",
       "      <th>min</th>\n",
       "      <td>0.000000</td>\n",
       "      <td>47.432000</td>\n",
       "      <td>320.942611</td>\n",
       "      <td>0.352000</td>\n",
       "      <td>129.000000</td>\n",
       "      <td>181.483754</td>\n",
       "      <td>2.200000</td>\n",
       "      <td>0.738000</td>\n",
       "      <td>1.450000</td>\n",
       "      <td>0.000000</td>\n",
       "    </tr>\n",
       "    <tr>\n",
       "      <th>25%</th>\n",
       "      <td>6.277673</td>\n",
       "      <td>176.850538</td>\n",
       "      <td>15666.690297</td>\n",
       "      <td>6.127421</td>\n",
       "      <td>317.094638</td>\n",
       "      <td>365.734414</td>\n",
       "      <td>12.065801</td>\n",
       "      <td>56.647656</td>\n",
       "      <td>3.439711</td>\n",
       "      <td>0.000000</td>\n",
       "    </tr>\n",
       "    <tr>\n",
       "      <th>50%</th>\n",
       "      <td>7.036752</td>\n",
       "      <td>196.967627</td>\n",
       "      <td>20927.833607</td>\n",
       "      <td>7.130299</td>\n",
       "      <td>333.073546</td>\n",
       "      <td>421.884968</td>\n",
       "      <td>14.218338</td>\n",
       "      <td>66.622485</td>\n",
       "      <td>3.955028</td>\n",
       "      <td>0.000000</td>\n",
       "    </tr>\n",
       "    <tr>\n",
       "      <th>75%</th>\n",
       "      <td>7.870050</td>\n",
       "      <td>216.667456</td>\n",
       "      <td>27332.762127</td>\n",
       "      <td>8.114887</td>\n",
       "      <td>350.385756</td>\n",
       "      <td>481.792304</td>\n",
       "      <td>16.557652</td>\n",
       "      <td>76.666609</td>\n",
       "      <td>4.500320</td>\n",
       "      <td>1.000000</td>\n",
       "    </tr>\n",
       "    <tr>\n",
       "      <th>max</th>\n",
       "      <td>14.000000</td>\n",
       "      <td>323.124000</td>\n",
       "      <td>61227.196008</td>\n",
       "      <td>13.127000</td>\n",
       "      <td>481.030642</td>\n",
       "      <td>753.342620</td>\n",
       "      <td>28.300000</td>\n",
       "      <td>124.000000</td>\n",
       "      <td>6.739000</td>\n",
       "      <td>1.000000</td>\n",
       "    </tr>\n",
       "  </tbody>\n",
       "</table>\n",
       "</div>"
      ],
      "text/plain": [
       "                ph     Hardness        Solids  Chloramines      Sulfate  \\\n",
       "count  3276.000000  3276.000000   3276.000000  3276.000000  3276.000000   \n",
       "mean      7.074194   196.369496  22014.092526     7.122277   333.608364   \n",
       "std       1.470040    32.879761   8768.570828     1.583085    36.143851   \n",
       "min       0.000000    47.432000    320.942611     0.352000   129.000000   \n",
       "25%       6.277673   176.850538  15666.690297     6.127421   317.094638   \n",
       "50%       7.036752   196.967627  20927.833607     7.130299   333.073546   \n",
       "75%       7.870050   216.667456  27332.762127     8.114887   350.385756   \n",
       "max      14.000000   323.124000  61227.196008    13.127000   481.030642   \n",
       "\n",
       "       Conductivity  Organic_carbon  Trihalomethanes    Turbidity   Potability  \n",
       "count   3276.000000     3276.000000      3276.000000  3276.000000  3276.000000  \n",
       "mean     426.205111       14.284970        66.407478     3.966786     0.390110  \n",
       "std       80.824064        3.308162        15.769958     0.780382     0.487849  \n",
       "min      181.483754        2.200000         0.738000     1.450000     0.000000  \n",
       "25%      365.734414       12.065801        56.647656     3.439711     0.000000  \n",
       "50%      421.884968       14.218338        66.622485     3.955028     0.000000  \n",
       "75%      481.792304       16.557652        76.666609     4.500320     1.000000  \n",
       "max      753.342620       28.300000       124.000000     6.739000     1.000000  "
      ]
     },
     "execution_count": 58,
     "metadata": {},
     "output_type": "execute_result"
    }
   ],
   "source": [
    "df.describe()"
   ]
  },
  {
   "cell_type": "markdown",
   "id": "ed2dcefe",
   "metadata": {
    "papermill": {
     "duration": 0.01729,
     "end_time": "2022-12-18T13:22:50.437369",
     "exception": false,
     "start_time": "2022-12-18T13:22:50.420079",
     "status": "completed"
    },
    "tags": []
   },
   "source": [
    "describe setap fitur yang bernilai numerik dengan mendeskripsikan count, mean, std, min, 25%, 50%, 75%, dan max."
   ]
  },
  {
   "cell_type": "code",
   "execution_count": 59,
   "id": "72a5a2e2",
   "metadata": {
    "execution": {
     "iopub.execute_input": "2022-12-18T13:22:50.475704Z",
     "iopub.status.busy": "2022-12-18T13:22:50.474887Z",
     "iopub.status.idle": "2022-12-18T13:22:50.480620Z",
     "shell.execute_reply": "2022-12-18T13:22:50.479583Z"
    },
    "papermill": {
     "duration": 0.028316,
     "end_time": "2022-12-18T13:22:50.483343",
     "exception": false,
     "start_time": "2022-12-18T13:22:50.455027",
     "status": "completed"
    },
    "tags": []
   },
   "outputs": [],
   "source": [
    "num_col = (df.columns).to_list()\n",
    "num_col = num_col[0:]"
   ]
  },
  {
   "cell_type": "code",
   "execution_count": 60,
   "id": "c59ba4e4",
   "metadata": {
    "execution": {
     "iopub.execute_input": "2022-12-18T13:22:50.520252Z",
     "iopub.status.busy": "2022-12-18T13:22:50.519607Z",
     "iopub.status.idle": "2022-12-18T13:22:50.527074Z",
     "shell.execute_reply": "2022-12-18T13:22:50.526112Z"
    },
    "papermill": {
     "duration": 0.029033,
     "end_time": "2022-12-18T13:22:50.529528",
     "exception": false,
     "start_time": "2022-12-18T13:22:50.500495",
     "status": "completed"
    },
    "tags": []
   },
   "outputs": [],
   "source": [
    "def detect_outliers_iqr(data):\n",
    "    outliers = []\n",
    "    data = sorted(data)\n",
    "    q1 = np.percentile(data, 25)\n",
    "    q3 = np.percentile(data, 75)\n",
    "    IQR = q3-q1\n",
    "    lwr_bound = q1-(1.5*IQR)\n",
    "    upr_bound = q3+(1.5*IQR)\n",
    "    print('lower bound : ', lwr_bound, '; upper bound : ', upr_bound)\n",
    "    for i in data: \n",
    "        if (i<lwr_bound or i>upr_bound):\n",
    "            outliers.append(i)\n",
    "    return outliers"
   ]
  },
  {
   "cell_type": "markdown",
   "id": "352b9ad8",
   "metadata": {
    "papermill": {
     "duration": 0.016724,
     "end_time": "2022-12-18T13:22:50.563219",
     "exception": false,
     "start_time": "2022-12-18T13:22:50.546495",
     "status": "completed"
    },
    "tags": []
   },
   "source": [
    "cek outlier"
   ]
  },
  {
   "cell_type": "code",
   "execution_count": 61,
   "id": "5d500530",
   "metadata": {
    "execution": {
     "iopub.execute_input": "2022-12-18T13:22:50.599714Z",
     "iopub.status.busy": "2022-12-18T13:22:50.599012Z",
     "iopub.status.idle": "2022-12-18T13:22:51.775583Z",
     "shell.execute_reply": "2022-12-18T13:22:51.774320Z"
    },
    "papermill": {
     "duration": 1.197934,
     "end_time": "2022-12-18T13:22:51.778097",
     "exception": false,
     "start_time": "2022-12-18T13:22:50.580163",
     "status": "completed"
    },
    "tags": []
   },
   "outputs": [
    {
     "data": {
      "image/png": "[encoded data removed]",
      "text/plain": [
       "<Figure size 1500x750 with 9 Axes>"
      ]
     },
     "metadata": {},
     "output_type": "display_data"
    }
   ],
   "source": [
    "# Daftar kolom \n",
    "columns = ['ph', 'Hardness', 'Solids', 'Chloramines', 'Sulfate', \n",
    "        'Conductivity', 'Organic_carbon', 'Trihalomethanes', 'Turbidity']\n",
    "fig, axs = plt.subplots(3, 3, figsize=(15, 7.5))\n",
    "\n",
    "# Mengubah daftar kolom menjadi iterator\n",
    "columns_iter = iter(columns)\n",
    "\n",
    "# Loop untuk mengisi setiap subplot\n",
    "for i in range(3):\n",
    "    for j in range(3):\n",
    "        col = next(columns_iter)\n",
    "        sns.boxplot(df[col], ax=axs[i, j])\n",
    "        axs[i, j].set_title(col)  # Menambahkan judul pada setiap subplot\n",
    "\n",
    "plt.tight_layout()\n",
    "plt.show()"
   ]
  },
  {
   "cell_type": "markdown",
   "id": "e7a4e6eb",
   "metadata": {
    "papermill": {
     "duration": 0.018148,
     "end_time": "2022-12-18T13:22:51.814835",
     "exception": false,
     "start_time": "2022-12-18T13:22:51.796687",
     "status": "completed"
    },
    "tags": []
   },
   "source": [
    "pengecekan outliner dengan visualisasi"
   ]
  },
  {
   "cell_type": "code",
   "execution_count": 62,
   "id": "10d3f13e",
   "metadata": {
    "execution": {
     "iopub.execute_input": "2022-12-18T13:22:51.854476Z",
     "iopub.status.busy": "2022-12-18T13:22:51.854021Z",
     "iopub.status.idle": "2022-12-18T13:22:52.884032Z",
     "shell.execute_reply": "2022-12-18T13:22:52.882771Z"
    },
    "jupyter": {
     "source_hidden": true
    },
    "papermill": {
     "duration": 1.054135,
     "end_time": "2022-12-18T13:22:52.887041",
     "exception": false,
     "start_time": "2022-12-18T13:22:51.832906",
     "status": "completed"
    },
    "tags": []
   },
   "outputs": [],
   "source": [
    "#Membuat fungsi outliers untuk mengatasi outliers\n",
    "def outliers(df, column):\n",
    "  Q1 = df[column].quantile(0.25)\n",
    "  Q3 = df[column].quantile(0.75)\n",
    "  IQR = Q3-Q1\n",
    "  lower_bound = Q1-1.5*IQR\n",
    "  upper_bound = Q3+1.5*IQR\n",
    "\n",
    "  for i in range(len(df)):\n",
    "      if df[column].iloc[i] > upper_bound:\n",
    "          df[column].iloc[i] = upper_bound\n",
    "      if df[column].iloc[i] < lower_bound:\n",
    "          df[column].iloc[i] = lower_bound\n",
    "\n",
    "for feature in num_col:\n",
    "  outliers(df, feature)"
   ]
  },
  {
   "cell_type": "markdown",
   "id": "9b80ab95",
   "metadata": {
    "papermill": {
     "duration": 0.018524,
     "end_time": "2022-12-18T13:22:52.924211",
     "exception": false,
     "start_time": "2022-12-18T13:22:52.905687",
     "status": "completed"
    },
    "tags": []
   },
   "source": [
    "menggunakan quantile, lower bound, dan upper bound untuk mengatasi outliner"
   ]
  },
  {
   "cell_type": "code",
   "execution_count": 63,
   "id": "de2bf10a",
   "metadata": {
    "execution": {
     "iopub.execute_input": "2022-12-18T13:22:52.961452Z",
     "iopub.status.busy": "2022-12-18T13:22:52.961020Z",
     "iopub.status.idle": "2022-12-18T13:22:54.332823Z",
     "shell.execute_reply": "2022-12-18T13:22:54.331284Z"
    },
    "papermill": {
     "duration": 1.393612,
     "end_time": "2022-12-18T13:22:54.335640",
     "exception": false,
     "start_time": "2022-12-18T13:22:52.942028",
     "status": "completed"
    },
    "tags": []
   },
   "outputs": [
    {
     "data": {
      "image/png": "[encoded data removed]",
      "text/plain": [
       "<Figure size 1500x750 with 9 Axes>"
      ]
     },
     "metadata": {},
     "output_type": "display_data"
    }
   ],
   "source": [
    "# Daftar kolom \n",
    "columns = ['ph', 'Hardness', 'Solids', 'Chloramines', 'Sulfate', \n",
    "        'Conductivity', 'Organic_carbon', 'Trihalomethanes', 'Turbidity']\n",
    "fig, axs = plt.subplots(3, 3, figsize=(15, 7.5))\n",
    "\n",
    "# Mengubah daftar kolom menjadi iterator\n",
    "columns_iter = iter(columns)\n",
    "\n",
    "# Loop untuk mengisi setiap subplot\n",
    "for i in range(3):\n",
    "    for j in range(3):\n",
    "        col = next(columns_iter)\n",
    "        sns.boxplot(df[col], ax=axs[i, j])\n",
    "        axs[i, j].set_title(col)  # Menambahkan judul pada setiap subplot\n",
    "\n",
    "plt.tight_layout()\n",
    "plt.show()"
   ]
  },
  {
   "cell_type": "markdown",
   "id": "09f1fd6d",
   "metadata": {
    "papermill": {
     "duration": 0.018605,
     "end_time": "2022-12-18T13:22:54.374031",
     "exception": false,
     "start_time": "2022-12-18T13:22:54.355426",
     "status": "completed"
    },
    "tags": []
   },
   "source": [
    "visualisasi"
   ]
  },
  {
   "cell_type": "markdown",
   "id": "2e310eb4",
   "metadata": {
    "papermill": {
     "duration": 0.017968,
     "end_time": "2022-12-18T13:22:54.411452",
     "exception": false,
     "start_time": "2022-12-18T13:22:54.393484",
     "status": "completed"
    },
    "tags": []
   },
   "source": [
    "## Modelling"
   ]
  },
  {
   "cell_type": "code",
   "execution_count": 64,
   "id": "c7500d11",
   "metadata": {
    "execution": {
     "iopub.execute_input": "2022-12-18T13:22:54.451474Z",
     "iopub.status.busy": "2022-12-18T13:22:54.450785Z",
     "iopub.status.idle": "2022-12-18T13:22:54.456292Z",
     "shell.execute_reply": "2022-12-18T13:22:54.455395Z"
    },
    "papermill": {
     "duration": 0.027811,
     "end_time": "2022-12-18T13:22:54.458796",
     "exception": false,
     "start_time": "2022-12-18T13:22:54.430985",
     "status": "completed"
    },
    "tags": []
   },
   "outputs": [],
   "source": [
    "x = df.iloc[:,[0,1]].values\n",
    "y = df.iloc[:,-1].values"
   ]
  },
  {
   "cell_type": "code",
   "execution_count": 65,
   "id": "e0985d7c",
   "metadata": {
    "execution": {
     "iopub.execute_input": "2022-12-18T13:22:54.534788Z",
     "iopub.status.busy": "2022-12-18T13:22:54.534338Z",
     "iopub.status.idle": "2022-12-18T13:22:54.542647Z",
     "shell.execute_reply": "2022-12-18T13:22:54.541191Z"
    },
    "papermill": {
     "duration": 0.03265,
     "end_time": "2022-12-18T13:22:54.546731",
     "exception": false,
     "start_time": "2022-12-18T13:22:54.514081",
     "status": "completed"
    },
    "tags": []
   },
   "outputs": [
    {
     "name": "stdout",
     "output_type": "stream",
     "text": [
      "Total data training :  2948\n",
      "Total data testing :  328\n"
     ]
    }
   ],
   "source": [
    "from sklearn.model_selection import train_test_split\n",
    "  \n",
    "X_train, X_test, y_train, y_test = train_test_split(x, y, train_size = 0.9)\n",
    "print('Total data training : ', len(X_train))\n",
    "print('Total data testing : ', len(X_test))"
   ]
  },
  {
   "cell_type": "markdown",
   "id": "29f8da6b",
   "metadata": {
    "papermill": {
     "duration": 0.018107,
     "end_time": "2022-12-18T13:22:54.584432",
     "exception": false,
     "start_time": "2022-12-18T13:22:54.566325",
     "status": "completed"
    },
    "tags": []
   },
   "source": [
    "split data"
   ]
  },
  {
   "cell_type": "code",
   "execution_count": 66,
   "id": "2fb18a4e",
   "metadata": {
    "execution": {
     "iopub.execute_input": "2022-12-18T13:22:54.622829Z",
     "iopub.status.busy": "2022-12-18T13:22:54.622402Z",
     "iopub.status.idle": "2022-12-18T13:22:54.635127Z",
     "shell.execute_reply": "2022-12-18T13:22:54.633848Z"
    },
    "papermill": {
     "duration": 0.036151,
     "end_time": "2022-12-18T13:22:54.638846",
     "exception": false,
     "start_time": "2022-12-18T13:22:54.602695",
     "status": "completed"
    },
    "tags": []
   },
   "outputs": [
    {
     "name": "stdout",
     "output_type": "stream",
     "text": [
      "[[  5.49948929 230.30877473]\n",
      " [  8.7572574  200.19140044]\n",
      " [  6.15349592 163.20554798]\n",
      " [  7.53988189 185.82597534]\n",
      " [  5.49215598 176.27140374]\n",
      " [  6.97539234 205.94024616]\n",
      " [  7.0367521  204.2405692 ]\n",
      " [  5.23045397 152.09416941]\n",
      " [  7.34223125 198.16880423]\n",
      " [  7.36991164 155.64480514]\n",
      " [  6.39454802 193.04755784]\n",
      " [  4.63825026 182.41962094]\n",
      " [  7.0367521  230.80948247]\n",
      " [  9.2528934  236.09878581]\n",
      " [  6.79369863 227.22575069]\n",
      " [  6.6249436  185.41093293]\n",
      " [  6.04738086 230.5862845 ]\n",
      " [  6.33073277 166.738009  ]\n",
      " [  9.06662805 203.38412336]\n",
      " [  9.73588939 209.76151279]\n",
      " [ 10.25861543 199.6093636 ]\n",
      " [  7.0367521  221.12696274]\n",
      " [  6.4530648  178.99824539]\n",
      " [  6.11518004 226.08442939]\n",
      " [  7.89925652 187.70065418]\n",
      " [  7.45870768 207.78657341]\n",
      " [  7.52051893 228.56261145]\n",
      " [  5.84293308 168.29528712]\n",
      " [  7.95887145 184.82855705]\n",
      " [  6.25926753 130.37427186]\n",
      " [  6.66021203 168.28374686]\n",
      " [  6.75169859 203.40045195]\n",
      " [  5.55535297 154.30068365]\n",
      " [  5.71332292 196.24570567]\n",
      " [  7.0367521  221.67546263]\n",
      " [  6.72897515 187.20271221]\n",
      " [  6.72800439 201.12689563]\n",
      " [  5.77062097 194.50014381]\n",
      " [  5.96347921 223.03163758]\n",
      " [  7.70910636 178.81082764]\n",
      " [  7.13122186 165.90902029]\n",
      " [  7.89026335 164.7080349 ]\n",
      " [  7.44518903 150.77572348]\n",
      " [  6.89831504 228.80280364]\n",
      " [  7.0367521  164.37843333]\n",
      " [  8.05289392 198.99447428]\n",
      " [  6.06936389 200.91626251]\n",
      " [  8.51597727 212.30462853]\n",
      " [  5.62053344 226.98783645]\n",
      " [ 10.02622381 117.12516037]\n",
      " [  7.0367521  187.87328351]\n",
      " [ 10.25861543 198.37801183]\n",
      " [  6.26679995 187.82961692]\n",
      " [  7.48139777 186.0747655 ]\n",
      " [  8.78316762 218.03283977]\n",
      " [  8.30433465 155.56994154]\n",
      " [  8.25121778 167.38535324]\n",
      " [  6.33364005 185.43634011]\n",
      " [  7.0367521  189.82341768]\n",
      " [  8.2770582  242.55924578]\n",
      " [  9.49455873 254.53445705]\n",
      " [ 10.25861543 276.39283372]\n",
      " [  7.34303194 198.53076966]\n",
      " [  6.45360521 175.47933974]\n",
      " [  7.0367521  163.16725013]\n",
      " [  8.89641899 222.25629289]\n",
      " [  7.0367521  229.48569368]\n",
      " [  6.9870415  169.72711577]\n",
      " [  7.0367521  169.18873566]\n",
      " [  5.96600049 194.79622105]\n",
      " [  5.47728305 165.43609335]\n",
      " [  6.74741528 250.41955457]\n",
      " [  7.0367521  142.27741266]\n",
      " [  4.57085441 194.96794524]\n",
      " [  9.86472709 276.39283372]\n",
      " [  6.94702854 168.87953923]\n",
      " [  7.39972471 258.01994706]\n",
      " [  7.0367521  188.39502337]\n",
      " [  7.0367521  129.89057235]\n",
      " [ 10.25861543 221.02925985]\n",
      " [  4.98167205 220.95055836]\n",
      " [  7.0367521  213.54193229]\n",
      " [  7.3121093  199.81299893]\n",
      " [  7.0367521  231.15982407]\n",
      " [  5.69469424 240.71218211]\n",
      " [ 10.25861543 228.30086036]\n",
      " [  7.99809025 241.00027651]\n",
      " [  8.0208691  175.87367621]\n",
      " [  6.85932373 179.0688055 ]\n",
      " [  5.89993657 205.91378641]\n",
      " [  7.78510667 174.8893609 ]\n",
      " [  5.86057415 240.88714438]\n",
      " [  6.7118146  232.2064284 ]\n",
      " [  5.33179929 149.95504743]\n",
      " [  4.9456947  170.44092056]\n",
      " [  7.0367521  216.67561867]\n",
      " [  7.0367521  220.83603483]\n",
      " [  6.17488431 193.02796027]\n",
      " [  8.19735337 203.10509143]\n",
      " [  5.96406536 241.0308985 ]\n",
      " [  7.26031968 194.2477421 ]\n",
      " [  7.2557986  200.16379462]\n",
      " [ 10.25861543 117.79122955]\n",
      " [  8.05304368 211.78323532]\n",
      " [  7.9166697  201.45580796]\n",
      " [  7.0367521  253.1496512 ]\n",
      " [  9.35271975 207.46516044]\n",
      " [  6.62999352 209.15702189]\n",
      " [  7.29008857 205.21310511]\n",
      " [  8.30922771 198.33689977]\n",
      " [  7.0367521  209.95327843]\n",
      " [  8.8849345  145.27770635]\n",
      " [  8.0162791  211.02930382]\n",
      " [  8.50697907 197.74514118]\n",
      " [  7.24340988 188.04629612]\n",
      " [  6.59729236 191.78744195]\n",
      " [  5.69447555 193.43213025]\n",
      " [  6.05681784 211.76588647]\n",
      " [  7.39397796 209.61921423]\n",
      " [  9.24141997 127.91882621]\n",
      " [  6.01061758 184.55858174]\n",
      " [  5.58412436 203.75642576]\n",
      " [  6.78411611 189.60834666]\n",
      " [  7.0367521  182.5822278 ]\n",
      " [  5.49851469 180.82511376]\n",
      " [  4.89196004 153.50623234]\n",
      " [  9.53787863 200.55750737]\n",
      " [  4.03406341 276.39283372]\n",
      " [  7.0367521  215.43191944]\n",
      " [  6.47909257 180.9586672 ]\n",
      " [  8.57012912 200.07187479]\n",
      " [  7.0367521  206.03629461]\n",
      " [  8.41860665 191.86708964]\n",
      " [  5.60087652 183.57378305]\n",
      " [  8.26409052 216.55188703]\n",
      " [  6.40796334 199.13172601]\n",
      " [  7.0367521  193.11679387]\n",
      " [  7.48279128 186.09343237]\n",
      " [  6.28310359 236.82321446]\n",
      " [  7.85590637 209.75180236]\n",
      " [  5.45559935 152.38673466]\n",
      " [  9.14719706 211.71414178]\n",
      " [  4.90190686 141.93078127]\n",
      " [  7.0367521  219.67426193]\n",
      " [  7.46014782 221.34320946]\n",
      " [  8.67993497 242.22866729]\n",
      " [  7.83398048 203.16940807]\n",
      " [  7.0367521  119.8858103 ]\n",
      " [  9.40632575 216.76215866]\n",
      " [  7.68878592 209.18562535]\n",
      " [  6.75166863 176.7931521 ]\n",
      " [  7.08044582 196.65894661]\n",
      " [  9.1307959  200.03234827]\n",
      " [  7.0367521  201.57204599]\n",
      " [  6.05706804 184.3732318 ]\n",
      " [  5.43324212 201.7812455 ]\n",
      " [  6.79809746 198.11638077]\n",
      " [ 10.25861543 162.78025206]\n",
      " [  4.8863798  159.31797218]\n",
      " [  5.30376434 231.01878382]\n",
      " [  7.0367521  168.38843077]\n",
      " [  7.0367521  193.09126005]\n",
      " [  5.91580675 195.74407414]\n",
      " [  7.91815047 214.18661095]\n",
      " [  6.4337262  176.85712203]\n",
      " [  7.48677971 199.67778447]\n",
      " [  8.56704382 160.21786704]\n",
      " [  6.14087756 197.87608975]\n",
      " [  5.91693049 185.92502115]\n",
      " [  7.0367521  189.81468195]\n",
      " [  6.93365391 217.77031644]\n",
      " [  7.87589514 226.28478782]\n",
      " [  8.27579563 163.35596082]\n",
      " [  3.88910696 133.21694156]\n",
      " [  7.63645409 238.93607434]\n",
      " [ 10.14708958 177.82131146]\n",
      " [  6.72919149 178.49363187]\n",
      " [  7.09824554 207.5353809 ]\n",
      " [  7.38829204 178.34405979]\n",
      " [  7.0367521  206.31834255]\n",
      " [ 10.20064451 182.0806013 ]\n",
      " [  7.0367521  203.05024386]\n",
      " [  7.6828725  180.70137547]\n",
      " [  7.1644783  213.00244111]\n",
      " [  6.36911163 235.34094272]\n",
      " [  7.0367521  190.92925578]\n",
      " [  7.68292344 217.78893221]\n",
      " [  6.3823146  212.83851429]\n",
      " [  8.12420783 207.50951515]\n",
      " [  6.64970531 190.53194713]\n",
      " [ 10.25861543 209.10304997]\n",
      " [  5.174346   234.32856907]\n",
      " [  6.51290083 169.21747977]\n",
      " [  7.60606688 248.04145327]\n",
      " [  9.65256294 205.2060586 ]\n",
      " [  7.0367521  235.00459774]\n",
      " [  6.74124582 196.8330011 ]\n",
      " [  5.40451067 258.90348881]\n",
      " [  7.07836107 198.41244699]\n",
      " [  5.70292598 216.85047387]\n",
      " [  7.0367521  181.30187388]\n",
      " [  5.99912518 219.71610877]\n",
      " [  6.70348685 182.12951431]\n",
      " [  5.09367513 251.31377952]\n",
      " [  7.71431267 191.69263972]\n",
      " [  7.1042952  177.57174366]\n",
      " [  6.91806244 188.91286481]\n",
      " [  7.0367521  218.98640624]\n",
      " [  9.39389165 252.73924847]\n",
      " [  6.5491876  212.92214149]\n",
      " [  7.68276247 211.66385236]\n",
      " [  7.94071322 197.04996531]\n",
      " [  7.0367521  171.43498047]\n",
      " [  6.77750636 207.05074829]\n",
      " [  5.4736034  218.51314527]\n",
      " [  7.76202074 173.63674203]\n",
      " [  8.12771042 203.07030852]\n",
      " [  3.88910696 199.08339263]\n",
      " [ 10.25861543 193.43316279]\n",
      " [  8.15121531 219.56004998]\n",
      " [  6.59376431 233.51413245]\n",
      " [  6.9678614  183.93347621]\n",
      " [  7.49623221 205.34498216]\n",
      " [  5.08542935 173.56597107]\n",
      " [  6.14392145 175.27407596]\n",
      " [  7.3710503  214.49661046]\n",
      " [  9.16108861 119.84190463]\n",
      " [  5.12676292 230.60375751]\n",
      " [  7.0367521  176.77218612]\n",
      " [  7.0367521  240.98418697]\n",
      " [  6.20743297 192.9370271 ]\n",
      " [  4.66614813 171.28870012]\n",
      " [  7.30099013 182.44769727]\n",
      " [  7.02550433 205.40052912]\n",
      " [  5.04140503 193.16785349]\n",
      " [  6.72718527 197.43921598]\n",
      " [  5.45668089 219.51988565]\n",
      " [  5.50018664 254.67270503]\n",
      " [  7.45914486 217.70013026]\n",
      " [  7.39756242 217.9367989 ]\n",
      " [  7.96172146 224.31676037]\n",
      " [  9.09222346 181.10150924]\n",
      " [  7.38175756 203.46030161]\n",
      " [  9.03650435 199.3218895 ]\n",
      " [  6.45709752 192.26494471]\n",
      " [  9.43663716 143.78841183]\n",
      " [  7.97690087 234.77937965]\n",
      " [  7.63876177 178.27163562]\n",
      " [  6.23805365 178.29805132]\n",
      " [  7.0367521  197.57073626]\n",
      " [  7.75667895 186.68645892]\n",
      " [  7.70441025 234.6359511 ]\n",
      " [  7.87649513 250.89662136]\n",
      " [  3.88910696 196.02425544]\n",
      " [  3.88910696 129.86397281]\n",
      " [  9.18645338 169.11980512]\n",
      " [  7.60567482 210.37143561]\n",
      " [  7.48425484 260.09217257]\n",
      " [  6.46687471 214.33727039]\n",
      " [  4.88438823 136.55778486]\n",
      " [  7.0367521  220.89270497]\n",
      " [  7.0367521  200.30865257]\n",
      " [  7.36876853 213.19701922]\n",
      " [  6.9207996  218.09861159]\n",
      " [  7.0367521  139.33115176]\n",
      " [  8.3795127  164.16816645]\n",
      " [  7.0367521  195.83657258]\n",
      " [  7.14577155 238.68992851]\n",
      " [  6.81046652 209.73555876]\n",
      " [  7.42510222 204.48628165]\n",
      " [  7.81965915 225.10683584]\n",
      " [  7.03834752 199.59794276]\n",
      " [  4.76282866 153.29701841]\n",
      " [  7.24073964 201.18680446]\n",
      " [  7.02729686 185.83867135]\n",
      " [  5.48831431 135.8023617 ]\n",
      " [  9.1854175  165.64150237]\n",
      " [  5.8598221  276.39283372]\n",
      " [  4.31321915 191.1193373 ]\n",
      " [  6.62601218 117.12516037]\n",
      " [  5.583833   261.23382531]\n",
      " [  6.42587387 188.98028152]\n",
      " [  5.70476478 117.12516037]\n",
      " [  8.82809437 196.56285269]\n",
      " [  5.36898834 250.660916  ]\n",
      " [  7.77766537 233.76157881]\n",
      " [  6.51984778 183.22599779]\n",
      " [  4.99353073 242.62050314]\n",
      " [  6.76806005 179.80599239]\n",
      " [  5.97676962 258.95273202]\n",
      " [ 10.25861543 169.40365473]\n",
      " [  5.18877688 178.9932688 ]\n",
      " [  5.67933047 182.14526646]\n",
      " [  3.88910696 190.95735504]\n",
      " [  6.87160725 197.51709338]\n",
      " [  6.57684532 156.22176809]\n",
      " [  7.689358   221.35688549]\n",
      " [  6.57808389 214.14633423]\n",
      " [  7.29603773 235.73519294]\n",
      " [  8.75948871 219.92138997]\n",
      " [  7.35605678 234.78230155]\n",
      " [  7.0367521  232.94323834]\n",
      " [  7.0367521  184.61484764]\n",
      " [  7.0367521  241.89551464]\n",
      " [  5.96130157 182.10899502]\n",
      " [  8.92814208 197.64853023]\n",
      " [  6.51273712 229.26386101]\n",
      " [  7.0367521  229.77134953]\n",
      " [  7.0367521  240.42978683]\n",
      " [  3.88910696 152.53011118]\n",
      " [  7.0367521  259.14492769]\n",
      " [ 10.25861543 168.69576628]\n",
      " [  7.71013789 174.35057661]\n",
      " [  7.0367521  162.97855974]\n",
      " [  3.88910696 156.47992684]\n",
      " [  4.70039272 195.35280731]\n",
      " [  7.0367521  208.36704564]\n",
      " [  5.97259997 186.46746989]\n",
      " [  7.20753861 174.80516801]\n",
      " [  8.40876623 210.79540611]\n",
      " [  7.36159983 231.7931825 ]\n",
      " [  5.7727697  186.06060348]\n",
      " [  9.27135545 181.25961724]\n",
      " [  8.33951161 202.20162418]\n",
      " [  9.96068986 169.92524845]\n",
      " [  7.59134609 199.25532182]\n",
      " [  5.06404246 214.52932829]\n",
      " [  7.82197094 157.1815455 ]]\n"
     ]
    }
   ],
   "source": [
    "print(X_test)"
   ]
  },
  {
   "cell_type": "code",
   "execution_count": 67,
   "id": "ac899b2b",
   "metadata": {
    "execution": {
     "iopub.execute_input": "2022-12-18T13:22:54.715525Z",
     "iopub.status.busy": "2022-12-18T13:22:54.714470Z",
     "iopub.status.idle": "2022-12-18T13:22:54.721747Z",
     "shell.execute_reply": "2022-12-18T13:22:54.720648Z"
    },
    "papermill": {
     "duration": 0.030012,
     "end_time": "2022-12-18T13:22:54.724605",
     "exception": false,
     "start_time": "2022-12-18T13:22:54.694593",
     "status": "completed"
    },
    "tags": []
   },
   "outputs": [],
   "source": [
    "# Melakukan skala menggunakan standard scaaler\n",
    "# Tujuan agar rentang data dan nilai antar atribut sama\n",
    "from sklearn.preprocessing import StandardScaler\n",
    "\n",
    "scaler = StandardScaler()\n",
    "X_train = scaler.fit_transform(X_train)\n",
    "X_test = scaler.fit_transform(X_test)"
   ]
  },
  {
   "cell_type": "code",
   "execution_count": 68,
   "id": "5a6453c5",
   "metadata": {
    "execution": {
     "iopub.execute_input": "2022-12-18T13:22:54.799900Z",
     "iopub.status.busy": "2022-12-18T13:22:54.799446Z",
     "iopub.status.idle": "2022-12-18T13:22:54.814788Z",
     "shell.execute_reply": "2022-12-18T13:22:54.812576Z"
    },
    "papermill": {
     "duration": 0.039028,
     "end_time": "2022-12-18T13:22:54.818594",
     "exception": false,
     "start_time": "2022-12-18T13:22:54.779566",
     "status": "completed"
    },
    "tags": []
   },
   "outputs": [
    {
     "name": "stdout",
     "output_type": "stream",
     "text": [
      "[[-1.15846778e+00  1.04833453e+00]\n",
      " [ 1.22693923e+00  6.38751416e-02]\n",
      " [-6.79590226e-01 -1.14509711e+00]\n",
      " [ 3.35551027e-01 -4.05693604e-01]\n",
      " [-1.16383738e+00 -7.18007939e-01]\n",
      " [-7.77802122e-02  2.51790101e-01]\n",
      " [-3.28512907e-02  1.96232039e-01]\n",
      " [-1.35546115e+00 -1.50829946e+00]\n",
      " [ 1.90827028e-01 -2.23831902e-03]\n",
      " [ 2.11095200e-01 -1.39223832e+00]\n",
      " [-5.03086759e-01 -1.69638672e-01]\n",
      " [-1.78908529e+00 -5.17038555e-01]\n",
      " [-3.28512907e-02  1.06470138e+00]\n",
      " [ 1.58985444e+00  1.23759508e+00]\n",
      " [-2.10820203e-01  9.47558418e-01]\n",
      " [-3.34386224e-01 -4.19260271e-01]\n",
      " [-7.57289932e-01  1.05740561e+00]\n",
      " [-5.49813646e-01 -1.02963006e+00]\n",
      " [ 1.45346699e+00  1.68237030e-01]\n",
      " [ 1.94351436e+00  3.76697464e-01]\n",
      " [ 2.32626547e+00  4.48498563e-02]\n",
      " [-3.28512907e-02  7.48204749e-01]\n",
      " [-4.60239530e-01 -6.28874509e-01]\n",
      " [-7.07645931e-01  9.10251564e-01]\n",
      " [ 5.98692759e-01 -3.44415181e-01]\n",
      " [ 2.76113547e-01  3.12141783e-01]\n",
      " [ 3.21373052e-01  9.91256953e-01]\n",
      " [-9.06990936e-01 -9.78726647e-01]\n",
      " [ 6.42344077e-01 -4.38296638e-01]\n",
      " [-6.02142007e-01 -2.21826696e+00]\n",
      " [-3.08561933e-01 -9.79103868e-01]\n",
      " [-2.41573531e-01  1.68770770e-01]\n",
      " [-1.11756320e+00 -1.43617419e+00]\n",
      " [-1.00189425e+00 -6.50994573e-02]\n",
      " [-3.28512907e-02  7.66133797e-01]\n",
      " [-2.58212115e-01 -3.60691621e-01]\n",
      " [-2.58922928e-01  9.44540696e-02]\n",
      " [-9.59939400e-01 -1.22157378e-01]\n",
      " [-8.18724503e-01  8.10463663e-01]\n",
      " [ 4.59460776e-01 -6.35000713e-01]\n",
      " [ 3.63214703e-02 -1.05672756e+00]\n",
      " [ 5.92107774e-01 -1.09598468e+00]\n",
      " [ 2.66214899e-01 -1.55139606e+00]\n",
      " [-1.34217849e-01  9.99108217e-01]\n",
      " [-3.28512907e-02 -1.10675851e+00]\n",
      " [ 7.11189327e-01  2.47507084e-02]\n",
      " [-7.41193485e-01  8.75690156e-02]\n",
      " [ 1.05026879e+00  4.59825367e-01]\n",
      " [-1.06983668e+00  9.39781614e-01]\n",
      " [ 2.15610339e+00 -2.65134629e+00]\n",
      " [-3.28512907e-02 -3.38772373e-01]\n",
      " [ 2.32626547e+00  4.60013885e-03]\n",
      " [-5.96626613e-01 -3.40199721e-01]\n",
      " [ 2.92727712e-01 -3.97561294e-01]\n",
      " [ 1.24591125e+00  6.47065838e-01]\n",
      " [ 8.95299575e-01 -1.39468542e+00]\n",
      " [ 8.56406272e-01 -1.00847004e+00]\n",
      " [-5.47684873e-01 -4.18429776e-01]\n",
      " [-3.28512907e-02 -2.75027510e-01]\n",
      " [ 8.75327175e-01  1.44877088e+00]\n",
      " [ 1.76680692e+00  1.84020969e+00]\n",
      " [ 2.32626547e+00  2.55470372e+00]\n",
      " [ 1.91413311e-01  9.59339853e-03]\n",
      " [-4.59843833e-01 -7.43898471e-01]\n",
      " [-3.28512907e-02 -1.14634897e+00]\n",
      " [ 1.32883630e+00  7.85119642e-01]\n",
      " [-3.28512907e-02  1.02143013e+00]\n",
      " [-6.92504504e-02 -9.31923856e-01]\n",
      " [-3.28512907e-02 -9.49522116e-01]\n",
      " [-8.16878366e-01 -1.12479376e-01]\n",
      " [-1.17472766e+00 -1.07218633e+00]\n",
      " [-2.44709856e-01  1.70570413e+00]\n",
      " [-3.28512907e-02 -1.82918395e+00]\n",
      " [-1.83843396e+00 -1.06866155e-01]\n",
      " [ 2.03785206e+00  2.55470372e+00]\n",
      " [-9.85487901e-02 -9.59628950e-01]\n",
      " [ 2.32924959e-01  1.95414138e+00]\n",
      " [-3.28512907e-02 -3.21718041e-01]\n",
      " [-3.28512907e-02 -2.23407785e+00]\n",
      " [ 2.32626547e+00  7.45011093e-01]\n",
      " [-1.53762456e+00  7.42438544e-01]\n",
      " [-3.28512907e-02  5.00269640e-01]\n",
      " [ 1.68771100e-01  5.15061707e-02]\n",
      " [-3.28512907e-02  1.07615314e+00]\n",
      " [-1.01553457e+00  1.38839512e+00]\n",
      " [ 2.32626547e+00  9.82700984e-01]\n",
      " [ 6.71060922e-01  1.39781219e+00]\n",
      " [ 6.87740079e-01 -7.31008628e-01]\n",
      " [-1.62768118e-01 -6.26568081e-01]\n",
      " [-8.65251773e-01  2.50925200e-01]\n",
      " [ 5.15109820e-01 -7.63183360e-01]\n",
      " [-8.94073767e-01  1.39411419e+00]\n",
      " [-2.70777432e-01  1.11036394e+00]\n",
      " [-1.28125396e+00 -1.57822184e+00]\n",
      " [-1.56396794e+00 -9.08591416e-01]\n",
      " [-3.28512907e-02  6.02701776e-01]\n",
      " [-3.28512907e-02  7.38695065e-01]\n",
      " [-6.63929198e-01 -1.70279266e-01]\n",
      " [ 8.16965607e-01  1.59116195e-01]\n",
      " [-8.18295308e-01  1.39881314e+00]\n",
      " [ 1.30849638e-01 -1.30407740e-01]\n",
      " [ 1.27539205e-01  6.29727783e-02]\n",
      " [ 2.32626547e+00 -2.62957420e+00]\n",
      " [ 7.11298989e-01  4.42782366e-01]\n",
      " [ 6.11443062e-01  1.05205367e-01]\n",
      " [-3.28512907e-02  1.79494395e+00]\n",
      " [ 1.66294941e+00  3.01635621e-01]\n",
      " [-3.30688566e-01  3.56938214e-01]\n",
      " [ 1.52647052e-01  2.28021733e-01]\n",
      " [ 8.98882375e-01  3.25629120e-03]\n",
      " [-3.28512907e-02  3.82965789e-01]\n",
      " [ 1.32042712e+00 -1.73111208e+00]\n",
      " [ 6.84379183e-01  4.18138287e-01]\n",
      " [ 1.04368012e+00 -1.60867727e-02]\n",
      " [ 1.18467922e-01 -3.33117036e-01]\n",
      " [-3.54633047e-01 -2.10828615e-01]\n",
      " [-1.01569470e+00 -1.57067991e-01]\n",
      " [-7.50379969e-01  4.42215277e-01]\n",
      " [ 2.28717066e-01  3.72046091e-01]\n",
      " [ 1.58145335e+00 -2.29852915e+00]\n",
      " [-7.84208787e-01 -4.47121436e-01]\n",
      " [-1.09649618e+00  1.80406637e-01]\n",
      " [-2.17836728e-01 -2.82057627e-01]\n",
      " [-3.28512907e-02 -5.11723356e-01]\n",
      " [-1.15918139e+00 -5.69158888e-01]\n",
      " [-1.60331360e+00 -1.46214276e+00]\n",
      " [ 1.79852667e+00  7.58422340e-02]\n",
      " [-2.23148373e+00  2.55470372e+00]\n",
      " [-3.28512907e-02  5.62048452e-01]\n",
      " [-4.41181448e-01 -5.64793370e-01]\n",
      " [ 1.08991993e+00  5.99681558e-02]\n",
      " [-3.28512907e-02  2.54929677e-01]\n",
      " [ 9.78971959e-01 -2.08225137e-01]\n",
      " [-1.08422989e+00 -4.79311969e-01]\n",
      " [ 8.65831964e-01  5.98657308e-01]\n",
      " [-4.93263782e-01  2.92371139e-02]\n",
      " [-3.28512907e-02 -1.67375525e-01]\n",
      " [ 2.93748065e-01 -3.96951122e-01]\n",
      " [-5.84688741e-01  1.26127479e+00]\n",
      " [ 5.66950860e-01  3.76380055e-01]\n",
      " [-1.19060492e+00 -1.49873625e+00]\n",
      " [ 1.51246133e+00  4.40523876e-01]\n",
      " [-1.59603033e+00 -1.84051444e+00]\n",
      " [-3.28512907e-02  7.00719701e-01]\n",
      " [ 2.77168044e-01  7.55273297e-01]\n",
      " [ 1.17032210e+00  1.43796512e+00]\n",
      " [ 5.50896261e-01  1.61218541e-01]\n",
      " [-3.28512907e-02 -2.56110775e+00]\n",
      " [ 1.70220086e+00  6.05530546e-01]\n",
      " [ 4.44581716e-01  3.57873187e-01]\n",
      " [-2.41595468e-01 -7.00953329e-01]\n",
      " [-8.57822830e-04 -5.15916754e-02]\n",
      " [ 1.50045205e+00  5.86761357e-02]\n",
      " [-3.28512907e-02  1.09004889e-01]\n",
      " [-7.50196770e-01 -4.53180048e-01]\n",
      " [-1.20697536e+00  1.15843082e-01]\n",
      " [-2.07599290e-01 -3.95190669e-03]\n",
      " [ 2.32626547e+00 -1.15899894e+00]\n",
      " [-1.60739956e+00 -1.27217195e+00]\n",
      " [-1.30178174e+00  1.07154290e+00]\n",
      " [-3.28512907e-02 -9.75682021e-01]\n",
      " [-3.28512907e-02 -1.68210160e-01]\n",
      " [-8.53631288e-01 -8.14965002e-02]\n",
      " [ 6.12527314e-01  5.21342525e-01]\n",
      " [-4.74399669e-01 -6.98862317e-01]\n",
      " [ 2.96668480e-01  4.70863585e-02]\n",
      " [ 1.08766081e+00 -1.24275670e+00]\n",
      " [-6.88829662e-01 -1.18064013e-02]\n",
      " [-8.52808463e-01 -4.02456051e-01]\n",
      " [-3.28512907e-02 -2.75313058e-01]\n",
      " [-1.08341978e-01  6.38484627e-01]\n",
      " [ 5.81587060e-01  9.16800765e-01]\n",
      " [ 8.74402696e-01 -1.14018050e+00]\n",
      " [-2.33762392e+00 -2.12534741e+00]\n",
      " [ 4.06263242e-01  1.33033874e+00]\n",
      " [ 2.24460387e+00 -6.67345448e-01]\n",
      " [-2.58053705e-01 -6.45369025e-01]\n",
      " [ 1.21755124e-02  3.03930947e-01]\n",
      " [ 2.24553716e-01 -6.50258151e-01]\n",
      " [-3.28512907e-02  2.64149098e-01]\n",
      " [ 2.28381793e+00 -5.28120234e-01]\n",
      " [-3.28512907e-02  1.57323369e-01]\n",
      " [ 4.40251786e-01 -5.73203573e-01]\n",
      " [ 6.06725397e-02  4.82635063e-01]\n",
      " [-5.21711825e-01  1.21282314e+00]\n",
      " [-3.28512907e-02 -2.38880510e-01]\n",
      " [ 4.40289090e-01  6.39093129e-01]\n",
      " [-5.12044328e-01  4.77276718e-01]\n",
      " [ 7.63406887e-01  3.03085462e-01]\n",
      " [-3.16255173e-01 -2.51867507e-01]\n",
      " [ 2.32626547e+00  3.55174011e-01]\n",
      " [-1.39654460e+00  1.17973126e+00]\n",
      " [-4.16426318e-01 -9.48582545e-01]\n",
      " [ 3.84013082e-01  1.62797012e+00]\n",
      " [ 1.88250096e+00  2.27791400e-01]\n",
      " [-3.28512907e-02  1.20182889e+00]\n",
      " [-2.49227268e-01 -4.59022826e-02]\n",
      " [-1.22801313e+00  1.98302208e+00]\n",
      " [-2.38431887e-03  5.72573553e-03]\n",
      " [-1.00950711e+00  6.08417343e-01]\n",
      " [-3.28512907e-02 -5.53574827e-01]\n",
      " [-7.92623765e-01  7.02087567e-01]\n",
      " [-2.76875185e-01 -5.26521393e-01]\n",
      " [-1.45561352e+00  1.73493404e+00]\n",
      " [ 4.63272948e-01 -2.13927456e-01]\n",
      " [ 1.66052015e-02 -6.75503176e-01]\n",
      " [-1.19758385e-01 -3.04791138e-01]\n",
      " [-3.28512907e-02  6.78235470e-01]\n",
      " [ 1.69309635e+00  1.78152894e+00]\n",
      " [-3.89856375e-01  4.80010276e-01]\n",
      " [ 4.40171224e-01  4.38880045e-01]\n",
      " [ 6.29048242e-01 -3.88102812e-02]\n",
      " [-3.28512907e-02 -8.76098158e-01]\n",
      " [-2.22676531e-01  2.88089555e-01]\n",
      " [-1.17742197e+00  6.62765788e-01]\n",
      " [ 4.98205813e-01 -8.04128244e-01]\n",
      " [ 7.65971564e-01  1.57979231e-01]\n",
      " [-2.33762392e+00  2.76572202e-02]\n",
      " [ 2.32626547e+00 -1.57034240e-01]\n",
      " [ 7.83182340e-01  6.96986406e-01]\n",
      " [-3.57216360e-01  1.15310942e+00]\n",
      " [-8.32945297e-02 -4.67554526e-01]\n",
      " [ 3.03589801e-01  2.32332454e-01]\n",
      " [-1.46165125e+00 -8.06441564e-01]\n",
      " [-6.86600856e-01 -7.50608015e-01]\n",
      " [ 2.11928951e-01  5.31475611e-01]\n",
      " [ 1.52263302e+00 -2.56254292e+00]\n",
      " [-1.43138594e+00  1.05797676e+00]\n",
      " [-3.28512907e-02 -7.01638653e-01]\n",
      " [-3.28512907e-02  1.39728626e+00]\n",
      " [-6.40096377e-01 -1.73251638e-01]\n",
      " [-1.76865787e+00 -8.80879686e-01]\n",
      " [ 1.60629405e-01 -5.16120812e-01]\n",
      " [-4.10871459e-02  2.34148141e-01]\n",
      " [-1.49388680e+00 -1.65706517e-01]\n",
      " [-2.59522705e-01 -2.60866797e-02]\n",
      " [-1.18981300e+00  6.95673538e-01]\n",
      " [-1.15795716e+00  1.84472866e+00]\n",
      " [ 2.76433657e-01  6.36190421e-01]\n",
      " [ 2.31341685e-01  6.43926510e-01]\n",
      " [ 6.44430920e-01  8.52471017e-01]\n",
      " [ 1.47220849e+00 -5.60124231e-01]\n",
      " [ 2.19769030e-01  1.70727101e-01]\n",
      " [ 1.43140978e+00  3.54530686e-02]\n",
      " [-4.57286685e-01 -1.95220280e-01]\n",
      " [ 1.72439552e+00 -1.77979328e+00]\n",
      " [ 6.55545607e-01  1.19446709e+00]\n",
      " [ 4.07952974e-01 -6.52625511e-01]\n",
      " [-6.17675260e-01 -6.51762050e-01]\n",
      " [-3.28512907e-02 -2.17876204e-02]\n",
      " [ 4.94294437e-01 -3.77566612e-01]\n",
      " [ 4.56022187e-01  1.18977878e+00]\n",
      " [ 5.82026390e-01  1.72129821e+00]\n",
      " [-2.33762392e+00 -7.23380952e-02]\n",
      " [-2.33762392e+00 -2.23494732e+00]\n",
      " [ 1.54120564e+00 -9.51775277e-01]\n",
      " [ 3.83726006e-01  3.96634270e-01]\n",
      " [ 2.94819716e-01  2.02187709e+00]\n",
      " [-4.50127623e-01  5.26267194e-01]\n",
      " [-1.60885784e+00 -2.01614385e+00]\n",
      " [-3.28512907e-02  7.40547466e-01]\n",
      " [-3.28512907e-02  6.77078116e-02]\n",
      " [ 2.10258189e-01  4.88995320e-01]\n",
      " [-1.17754177e-01  6.49215750e-01]\n",
      " [-3.28512907e-02 -1.92548963e+00]\n",
      " [ 9.50346540e-01 -1.11363159e+00]\n",
      " [-3.28512907e-02 -7.84729644e-02]\n",
      " [ 4.69750599e-02  1.32229286e+00]\n",
      " [-1.98542404e-01  3.75849094e-01]\n",
      " [ 2.51506915e-01  2.04263746e-01]\n",
      " [ 5.40409880e-01  8.78296549e-01]\n",
      " [-3.16830954e-02  4.44765386e-02]\n",
      " [-1.69786633e+00 -1.46898142e+00]\n",
      " [ 1.16512715e-01  9.64123349e-02]\n",
      " [-3.97746208e-02 -4.05278603e-01]\n",
      " [-1.16665033e+00 -2.04083669e+00]\n",
      " [ 1.54044715e+00 -1.06547204e+00]\n",
      " [-8.94624435e-01  2.55470372e+00]\n",
      " [-2.02707997e+00 -2.32667235e-01]\n",
      " [-3.33603784e-01 -2.65134629e+00]\n",
      " [-1.09670952e+00  2.05919478e+00]\n",
      " [-4.80149311e-01 -3.02587459e-01]\n",
      " [-1.00816070e+00 -2.65134629e+00]\n",
      " [ 1.27880757e+00 -5.47327384e-02]\n",
      " [-1.25402334e+00  1.71359361e+00]\n",
      " [ 5.09661137e-01  1.16119780e+00]\n",
      " [-4.11339612e-01 -4.90680173e-01]\n",
      " [-1.52894138e+00  1.45077322e+00]\n",
      " [-2.29593320e-01 -6.02471340e-01]\n",
      " [-8.08992981e-01  1.98463172e+00]\n",
      " [ 2.32626547e+00 -9.42496965e-01]\n",
      " [-1.38597800e+00 -6.29037181e-01]\n",
      " [-1.02678425e+00 -5.26006496e-01]\n",
      " [-2.33762392e+00 -2.37962018e-01]\n",
      " [-1.53773864e-01 -2.35410678e-02]\n",
      " [-3.69604804e-01 -1.37337889e+00]\n",
      " [ 4.45000610e-01  7.55720331e-01]\n",
      " [-3.68697898e-01  5.20025983e-01]\n",
      " [ 1.57003155e-01  1.22571017e+00]\n",
      " [ 1.22857305e+00  7.08797680e-01]\n",
      " [ 2.00950374e-01  1.19456260e+00]\n",
      " [-3.28512907e-02  1.13444836e+00]\n",
      " [-3.28512907e-02 -4.45282248e-01]\n",
      " [-3.28512907e-02  1.42707522e+00]\n",
      " [-8.20319012e-01 -5.27192116e-01]\n",
      " [ 1.35206462e+00 -1.92447359e-02]\n",
      " [-4.16546189e-01  1.01417899e+00]\n",
      " [-3.28512907e-02  1.03076749e+00]\n",
      " [-3.28512907e-02  1.37916435e+00]\n",
      " [-2.33762392e+00 -1.49404964e+00]\n",
      " [-3.28512907e-02  1.99091410e+00]\n",
      " [ 2.32626547e+00 -9.65636015e-01]\n",
      " [ 4.60216085e-01 -7.80794830e-01]\n",
      " [-3.28512907e-02 -1.15251677e+00]\n",
      " [-2.33762392e+00 -1.36494034e+00]\n",
      " [-1.74358325e+00 -9.42860050e-02]\n",
      " [-3.28512907e-02  3.31115925e-01]\n",
      " [-8.12046087e-01 -3.84724799e-01]\n",
      " [ 9.22022154e-02 -7.65935409e-01]\n",
      " [ 9.71766595e-01  4.10492774e-01]\n",
      " [ 2.05009115e-01  1.09685600e+00]\n",
      " [-9.58366055e-01 -3.98024214e-01]\n",
      " [ 1.60337274e+00 -5.54956088e-01]\n",
      " [ 9.21056890e-01  1.29584178e-01]\n",
      " [ 2.10811804e+00 -9.25447409e-01]\n",
      " [ 3.73234208e-01  3.32771427e-02]\n",
      " [-1.47731119e+00  5.32545072e-01]\n",
      " [ 5.42102619e-01 -1.34200623e+00]]\n"
     ]
    }
   ],
   "source": [
    "print(X_test)"
   ]
  },
  {
   "cell_type": "markdown",
   "id": "2454452f",
   "metadata": {
    "papermill": {
     "duration": 0.019407,
     "end_time": "2022-12-18T13:22:54.857480",
     "exception": false,
     "start_time": "2022-12-18T13:22:54.838073",
     "status": "completed"
    },
    "tags": []
   },
   "source": [
    "Hasil print X_test setelah di standard scaler"
   ]
  },
  {
   "cell_type": "code",
   "execution_count": 69,
   "id": "5ace7dda",
   "metadata": {
    "execution": {
     "iopub.execute_input": "2022-12-18T13:22:54.898214Z",
     "iopub.status.busy": "2022-12-18T13:22:54.897820Z",
     "iopub.status.idle": "2022-12-18T13:22:54.902627Z",
     "shell.execute_reply": "2022-12-18T13:22:54.901387Z"
    },
    "papermill": {
     "duration": 0.027937,
     "end_time": "2022-12-18T13:22:54.904935",
     "exception": false,
     "start_time": "2022-12-18T13:22:54.876998",
     "status": "completed"
    },
    "tags": []
   },
   "outputs": [],
   "source": [
    "# Mendefinisikan seed dan nilai untuk accuracy \n",
    "seed = 7\n",
    "nilai = 'accuracy'"
   ]
  },
  {
   "cell_type": "code",
   "execution_count": 70,
   "id": "ef362cbe",
   "metadata": {
    "execution": {
     "iopub.execute_input": "2022-12-18T13:22:54.983103Z",
     "iopub.status.busy": "2022-12-18T13:22:54.982717Z",
     "iopub.status.idle": "2022-12-18T13:22:54.989779Z",
     "shell.execute_reply": "2022-12-18T13:22:54.988392Z"
    },
    "papermill": {
     "duration": 0.030334,
     "end_time": "2022-12-18T13:22:54.992343",
     "exception": false,
     "start_time": "2022-12-18T13:22:54.962009",
     "status": "completed"
    },
    "tags": []
   },
   "outputs": [],
   "source": [
    "models = []\n",
    "\n",
    "models.append(('SVM', SVC()))\n",
    "models.append(('KNN', KNeighborsClassifier(n_neighbors=7, metric='euclidean')))\n",
    "models.append(('Random Forest', RandomForestClassifier()))"
   ]
  },
  {
   "cell_type": "code",
   "execution_count": 71,
   "id": "29714476",
   "metadata": {
    "execution": {
     "iopub.execute_input": "2022-12-18T13:22:55.074772Z",
     "iopub.status.busy": "2022-12-18T13:22:55.073656Z",
     "iopub.status.idle": "2022-12-18T13:23:11.288077Z",
     "shell.execute_reply": "2022-12-18T13:23:11.286796Z"
    },
    "papermill": {
     "duration": 16.237924,
     "end_time": "2022-12-18T13:23:11.290855",
     "exception": false,
     "start_time": "2022-12-18T13:22:55.052931",
     "status": "completed"
    },
    "tags": []
   },
   "outputs": [
    {
     "name": "stdout",
     "output_type": "stream",
     "text": [
      "SVM : 0.611947 (0.024852)\n",
      "KNN : 0.572594 (0.027210)\n",
      "Random Forest : 0.584479 (0.030468)\n"
     ]
    }
   ],
   "source": [
    "# Import library model\n",
    "from sklearn import model_selection\n",
    "\n",
    "results = []\n",
    "names = []\n",
    "\n",
    "# Membagi data menggunakan k-fold cross menjadi training dan validation set\n",
    "for name, model in models:\n",
    "  kfold = model_selection.KFold(n_splits=10, random_state=seed, shuffle=True)\n",
    "  cv_results = model_selection.cross_val_score(model, X_train, y_train, cv=kfold, scoring=nilai)\n",
    "  results.append(cv_results)\n",
    "  msg = \"%s : %f (%f)\" % (name, cv_results.mean(), cv_results.std())\n",
    "  print(msg)"
   ]
  },
  {
   "cell_type": "markdown",
   "id": "4b1eb55c",
   "metadata": {
    "papermill": {
     "duration": 0.020878,
     "end_time": "2022-12-18T13:23:12.455657",
     "exception": false,
     "start_time": "2022-12-18T13:23:12.434779",
     "status": "completed"
    },
    "tags": []
   },
   "source": [
    "## 1. KNN"
   ]
  },
  {
   "cell_type": "code",
   "execution_count": 72,
   "id": "d1b6c846",
   "metadata": {
    "execution": {
     "iopub.execute_input": "2022-12-18T13:23:12.499001Z",
     "iopub.status.busy": "2022-12-18T13:23:12.497972Z",
     "iopub.status.idle": "2022-12-18T13:23:12.525075Z",
     "shell.execute_reply": "2022-12-18T13:23:12.523296Z"
    },
    "papermill": {
     "duration": 0.051388,
     "end_time": "2022-12-18T13:23:12.527804",
     "exception": false,
     "start_time": "2022-12-18T13:23:12.476416",
     "status": "completed"
    },
    "tags": []
   },
   "outputs": [
    {
     "name": "stdout",
     "output_type": "stream",
     "text": [
      "akurasi pada testing data :  0.5853658536585366\n",
      "confusion matrix :  [[151  61]\n",
      " [ 75  41]]\n",
      "classification report : \n",
      "               precision    recall  f1-score   support\n",
      "\n",
      "           0       0.67      0.71      0.69       212\n",
      "           1       0.40      0.35      0.38       116\n",
      "\n",
      "    accuracy                           0.59       328\n",
      "   macro avg       0.54      0.53      0.53       328\n",
      "weighted avg       0.57      0.59      0.58       328\n",
      "\n"
     ]
    }
   ],
   "source": [
    "#Evaluasi algoritma KNN\n",
    "from sklearn.metrics import accuracy_score, confusion_matrix, classification_report\n",
    "\n",
    "knn_model = KNeighborsClassifier(n_neighbors = 7, metric = 'euclidean')\n",
    "\n",
    "knn_model.fit(X_train, y_train)\n",
    "predictions = knn_model.predict(X_test)\n",
    "\n",
    "print('akurasi pada testing data : ', accuracy_score(y_test, predictions))\n",
    "print('confusion matrix : ', confusion_matrix(y_test, predictions))\n",
    "print('classification report : \\n', classification_report(y_test, predictions\n",
    "))"
   ]
  },
  {
   "cell_type": "code",
   "execution_count": 73,
   "id": "9fa9ddd8",
   "metadata": {
    "execution": {
     "iopub.execute_input": "2022-12-18T13:23:12.611071Z",
     "iopub.status.busy": "2022-12-18T13:23:12.610081Z",
     "iopub.status.idle": "2022-12-18T13:23:12.848597Z",
     "shell.execute_reply": "2022-12-18T13:23:12.847136Z"
    },
    "papermill": {
     "duration": 0.26386,
     "end_time": "2022-12-18T13:23:12.851599",
     "exception": false,
     "start_time": "2022-12-18T13:23:12.587739",
     "status": "completed"
    },
    "tags": []
   },
   "outputs": [
    {
     "data": {
      "image/png": "[encoded data removed]",
      "text/plain": [
       "<Figure size 640x480 with 2 Axes>"
      ]
     },
     "metadata": {},
     "output_type": "display_data"
    }
   ],
   "source": [
    "#Confusion matrix algoritma KNN\n",
    "KNN = confusion_matrix(y_test, predictions)\n",
    "sns.heatmap(KNN, annot=True, fmt='d', cmap='Blues')\n",
    "\n",
    "# Menampilkan plot heatmap\n",
    "plt.title('Confusion Matrix - KNN')\n",
    "plt.xlabel('Predicted')\n",
    "plt.ylabel('Actual')\n",
    "plt.show()"
   ]
  },
  {
   "cell_type": "markdown",
   "id": "6d473df7",
   "metadata": {
    "papermill": {
     "duration": 0.020338,
     "end_time": "2022-12-18T13:23:12.933898",
     "exception": false,
     "start_time": "2022-12-18T13:23:12.913560",
     "status": "completed"
    },
    "tags": []
   },
   "source": [
    "## 2. SVM"
   ]
  },
  {
   "cell_type": "code",
   "execution_count": 74,
   "id": "716839d6",
   "metadata": {
    "execution": {
     "iopub.execute_input": "2022-12-18T13:23:12.975508Z",
     "iopub.status.busy": "2022-12-18T13:23:12.975077Z",
     "iopub.status.idle": "2022-12-18T13:23:13.548501Z",
     "shell.execute_reply": "2022-12-18T13:23:13.547262Z"
    },
    "papermill": {
     "duration": 0.597495,
     "end_time": "2022-12-18T13:23:13.551440",
     "exception": false,
     "start_time": "2022-12-18T13:23:12.953945",
     "status": "completed"
    },
    "tags": []
   },
   "outputs": [
    {
     "name": "stdout",
     "output_type": "stream",
     "text": [
      "akurasi pada testing data :  0.6585365853658537\n",
      "confusion matrix :  [[209   3]\n",
      " [109   7]]\n",
      "classification report : \n",
      "               precision    recall  f1-score   support\n",
      "\n",
      "           0       0.66      0.99      0.79       212\n",
      "           1       0.70      0.06      0.11       116\n",
      "\n",
      "    accuracy                           0.66       328\n",
      "   macro avg       0.68      0.52      0.45       328\n",
      "weighted avg       0.67      0.66      0.55       328\n",
      "\n"
     ]
    }
   ],
   "source": [
    "#Evaluasi algoritma SVM\n",
    "from sklearn.metrics import accuracy_score, confusion_matrix, classification_report\n",
    "\n",
    "svm_model = SVC()\n",
    "\n",
    "svm_model.fit(X_train, y_train)\n",
    "predictions = svm_model.predict(X_test)\n",
    "\n",
    "print('akurasi pada testing data : ', accuracy_score(y_test, predictions))\n",
    "print('confusion matrix : ', confusion_matrix(y_test, predictions))\n",
    "print('classification report : \\n', classification_report(y_test, predictions\n",
    "))"
   ]
  },
  {
   "cell_type": "code",
   "execution_count": 75,
   "id": "22488570",
   "metadata": {
    "execution": {
     "iopub.execute_input": "2022-12-18T13:23:13.634608Z",
     "iopub.status.busy": "2022-12-18T13:23:13.634164Z",
     "iopub.status.idle": "2022-12-18T13:23:13.883062Z",
     "shell.execute_reply": "2022-12-18T13:23:13.881735Z"
    },
    "papermill": {
     "duration": 0.27419,
     "end_time": "2022-12-18T13:23:13.885858",
     "exception": false,
     "start_time": "2022-12-18T13:23:13.611668",
     "status": "completed"
    },
    "tags": []
   },
   "outputs": [
    {
     "data": {
      "image/png": "[encoded data removed]",
      "text/plain": [
       "<Figure size 640x480 with 2 Axes>"
      ]
     },
     "metadata": {},
     "output_type": "display_data"
    }
   ],
   "source": [
    "#Confusion matrix algoritma SVM\n",
    "SVM = confusion_matrix(y_test, predictions)\n",
    "sns.heatmap(SVM, annot=True, fmt='d', cmap='Blues')\n",
    "\n",
    "# Menampilkan plot heatmap\n",
    "plt.title('Confusion Matrix - SVM')\n",
    "plt.xlabel('Predicted')\n",
    "plt.ylabel('Actual')\n",
    "plt.show()"
   ]
  },
  {
   "cell_type": "markdown",
   "id": "7c04b370",
   "metadata": {},
   "source": [
    "## 3. Random Forest"
   ]
  },
  {
   "cell_type": "code",
   "execution_count": 76,
   "id": "df722aac",
   "metadata": {},
   "outputs": [
    {
     "name": "stdout",
     "output_type": "stream",
     "text": [
      "Akurasi pada testing data :  0.5670731707317073\n",
      "Confusion matrix : \n",
      " [[141  71]\n",
      " [ 71  45]]\n",
      "Classification report : \n",
      "               precision    recall  f1-score   support\n",
      "\n",
      "           0       0.67      0.67      0.67       212\n",
      "           1       0.39      0.39      0.39       116\n",
      "\n",
      "    accuracy                           0.57       328\n",
      "   macro avg       0.53      0.53      0.53       328\n",
      "weighted avg       0.57      0.57      0.57       328\n",
      "\n"
     ]
    }
   ],
   "source": [
    "# Evaluasi algoritma Random Forest\n",
    "from sklearn.ensemble import RandomForestClassifier\n",
    "from sklearn.metrics import accuracy_score, confusion_matrix, classification_report\n",
    "import seaborn as sns\n",
    "import matplotlib.pyplot as plt\n",
    "\n",
    "# Inisialisasi model Random Forest\n",
    "rf_model = RandomForestClassifier()\n",
    "\n",
    "# Melatih model\n",
    "rf_model.fit(X_train, y_train)\n",
    "\n",
    "# Melakukan prediksi\n",
    "predictions = rf_model.predict(X_test)\n",
    "\n",
    "# Menampilkan hasil evaluasi\n",
    "print('Akurasi pada testing data : ', accuracy_score(y_test, predictions))\n",
    "print('Confusion matrix : \\n', confusion_matrix(y_test, predictions))\n",
    "print('Classification report : \\n', classification_report(y_test, predictions))\n",
    "\n"
   ]
  },
  {
   "cell_type": "code",
   "execution_count": 77,
   "id": "fd6a484e",
   "metadata": {},
   "outputs": [
    {
     "data": {
      "image/png": "[encoded data removed]",
      "text/plain": [
       "<Figure size 640x480 with 2 Axes>"
      ]
     },
     "metadata": {},
     "output_type": "display_data"
    }
   ],
   "source": [
    "# Confusion matrix untuk algoritma Random Forest\n",
    "RF_cm = confusion_matrix(y_test, predictions)\n",
    "sns.heatmap(RF_cm, annot=True, fmt='d', cmap='Blues')\n",
    "\n",
    "# Menampilkan plot heatmap\n",
    "plt.title('Confusion Matrix - Random Forest')\n",
    "plt.xlabel('Predicted')\n",
    "plt.ylabel('Actual')\n",
    "plt.show()\n"
   ]
  },
  {
   "cell_type": "code",
   "execution_count": null,
   "id": "2f9f7078",
   "metadata": {},
   "outputs": [],
   "source": []
  }
 ],
 "metadata": {
  "kernelspec": {
   "display_name": "Python 3",
   "language": "python",
   "name": "python3"
  },
  "language_info": {
   "codemirror_mode": {
    "name": "ipython",
    "version": 3
   },
   "file_extension": ".py",
   "mimetype": "text/x-python",
   "name": "python",
   "nbconvert_exporter": "python",
   "pygments_lexer": "ipython3",
   "version": "3.12.2"
  },
  "papermill": {
   "default_parameters": {},
   "duration": 42.26195,
   "end_time": "2022-12-18T13:23:20.905879",
   "environment_variables": {},
   "exception": null,
   "input_path": "__notebook__.ipynb",
   "output_path": "__notebook__.ipynb",
   "parameters": {},
   "start_time": "2022-12-18T13:22:38.643929",
   "version": "2.3.4"
  }
 },
 "nbformat": 4,
 "nbformat_minor": 5
}
